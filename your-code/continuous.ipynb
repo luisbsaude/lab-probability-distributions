{
 "cells": [
  {
   "cell_type": "markdown",
   "metadata": {},
   "source": [
    "# Before your start:\n",
    "\n",
    "    Read the README.md file\n",
    "    Comment as much as you can and use the resources (README.md file)\n",
    "    Happy learning!"
   ]
  },
  {
   "cell_type": "markdown",
   "metadata": {},
   "source": [
    "In this exercise, we  will generate random numbers from the continuous disributions we learned in the lesson. There are two ways to generate random numbers:\n",
    "\n",
    "1. Using the numpy library \n",
    "1. using the Scipy library \n",
    "\n",
    "Use either or both of the lbraries in this exercise."
   ]
  },
  {
   "cell_type": "markdown",
   "metadata": {},
   "source": [
    "## Uniform Distribution\n",
    "\n",
    "To generate uniform random numbers between any two given values using scipy, we can either use the following code or the code that we have\n",
    "discussed in class:"
   ]
  },
  {
   "cell_type": "code",
   "execution_count": 1,
   "metadata": {},
   "outputs": [],
   "source": [
    "import matplotlib\n",
    "import matplotlib.pyplot as plt\n",
    "import pandas as pd\n",
    "import numpy as np"
   ]
  },
  {
   "cell_type": "code",
   "execution_count": 2,
   "metadata": {},
   "outputs": [
    {
     "name": "stdout",
     "output_type": "stream",
     "text": [
      "[2.79685502 2.41827232 2.87253341 2.24384824 2.85548871 2.31993381\n",
      " 2.01401137 2.17930609 2.30018717 2.91903721]\n",
      "[0.79685502 0.41827232 0.87253341 0.24384824 0.85548871 0.31993381\n",
      " 0.01401137 0.17930609 0.30018717 0.91903721]\n"
     ]
    }
   ],
   "source": [
    "from scipy.stats import uniform\n",
    "x = uniform.rvs(size=10)\n",
    "a = 2\n",
    "b = 3\n",
    "randoms  = a + (b-a)*x\n",
    "print(randoms)\n",
    "print(x)"
   ]
  },
  {
   "cell_type": "markdown",
   "metadata": {},
   "source": [
    "**Your task:**\n",
    "\n",
    "1. Based on the code above, write a function that generates uniformly distributed random numbers. There are several requirements for your function:\n",
    "    * It should accept 3 parameters: \n",
    "        * `bottom` - the lower boundary of the generated numbers\n",
    "        * `ceiling` - the upper boundary of the generated numbers\n",
    "        * `count` - how many numbers to generate\n",
    "    * It should return an array of uniformly distributed random numbers\n",
    "\n",
    "1. Call your function with 2 sets of params below:\n",
    "    * bottom=10, ceiling=15, count=100\n",
    "    * bottom=10, ceiling=60, count=1,000\n",
    "\n",
    "1. Plot the uniform distributions generated above using histograms, where x axis is the value and y axis is the count. Let the histogram's number of bins be 10.\n",
    "\n",
    "Your output should look like below:\n",
    "\n",
    "![uniform distribution](ud.png)"
   ]
  },
  {
   "cell_type": "code",
   "execution_count": 3,
   "metadata": {},
   "outputs": [
    {
     "data": {
      "image/png": "[encoded data removed]",
      "text/plain": [
       "<Figure size 1440x720 with 2 Axes>"
      ]
     },
     "metadata": {
      "needs_background": "light"
     },
     "output_type": "display_data"
    }
   ],
   "source": [
    "# your code here\n",
    "y = uniform.rvs(size=100)\n",
    "z = uniform.rvs(size=1000)\n",
    "a = 10\n",
    "b = 15\n",
    "c = 60\n",
    "randoms_y  = a + (b-a)*y\n",
    "randoms_z  = a + (c-a)*z\n",
    "fig, axs = plt.subplots(1, 2, figsize=(20, 10))\n",
    "axs[0].hist(randoms_y,bins=10)\n",
    "axs[1].hist(randoms_z,bins=10)\n",
    "plt.ylimit = 100"
   ]
  },
  {
   "cell_type": "markdown",
   "metadata": {},
   "source": [
    "How are the two distributions different?"
   ]
  },
  {
   "cell_type": "code",
   "execution_count": 4,
   "metadata": {},
   "outputs": [],
   "source": [
    "# your answer here:\n"
   ]
  },
  {
   "cell_type": "markdown",
   "metadata": {},
   "source": [
    "## Normal Distribution\n",
    "\n",
    "1. In the same way in the Uniform Distribution challenge, write a function that generates normally distributed random numbers.\n",
    "1. Generate 1,000 normally distributed numbers with the average of 10 and standard deviation of 1\n",
    "1. Generate 1,000 normally distributed numbers with the average of 10 and standard deviation of 50\n",
    "2. Plot the distributions of the data generated.\n",
    "\n",
    "Expected output:\n",
    "\n",
    "![normal distribution](nd.png)"
   ]
  },
  {
   "cell_type": "code",
   "execution_count": 5,
   "metadata": {},
   "outputs": [],
   "source": [
    "# your code here\n"
   ]
  },
  {
   "cell_type": "markdown",
   "metadata": {},
   "source": [
    "How are the two distributions different?"
   ]
  },
  {
   "cell_type": "code",
   "execution_count": 6,
   "metadata": {},
   "outputs": [],
   "source": [
    "# your answer here:\n"
   ]
  },
  {
   "cell_type": "markdown",
   "metadata": {},
   "source": [
    "## Normal Distribution of Real Data\n",
    "\n",
    "In this challenge we are going to take a look the real data. We will use vehicles.csv file for this exercise"
   ]
  },
  {
   "cell_type": "markdown",
   "metadata": {},
   "source": [
    "First import vehicles.csv.\n",
    "Then plot the histograms for the following variables:\n",
    "\n",
    "1. Fuel Barrels/Year"
   ]
  },
  {
   "cell_type": "code",
   "execution_count": 7,
   "metadata": {},
   "outputs": [],
   "source": [
    "# your code here\n",
    "vehicles = pd.read_csv('/Users/luissaude/Desktop/IH/WEEK_4/vehicles.csv')"
   ]
  },
  {
   "cell_type": "markdown",
   "metadata": {},
   "source": [
    "2. CO2 Emission Grams/Mile "
   ]
  },
  {
   "cell_type": "code",
   "execution_count": 8,
   "metadata": {},
   "outputs": [
    {
     "data": {
      "text/plain": [
       "(array([3.000e+00, 2.000e+00, 0.000e+00, 4.000e+00, 4.000e+00, 3.000e+00,\n",
       "        1.000e+00, 1.300e+01, 1.000e+00, 3.000e+00, 1.000e+01, 1.400e+01,\n",
       "        3.000e+01, 2.400e+01, 7.100e+01, 8.800e+01, 4.500e+01, 1.030e+02,\n",
       "        2.490e+02, 1.980e+02, 3.320e+02, 7.290e+02, 6.700e+02, 6.790e+02,\n",
       "        1.012e+03, 1.207e+03, 2.500e+02, 1.547e+03, 1.684e+03, 2.095e+03,\n",
       "        3.310e+02, 2.933e+03, 2.300e+02, 2.915e+03, 3.012e+03, 2.200e+02,\n",
       "        2.330e+02, 3.266e+03, 1.140e+02, 2.157e+03, 1.560e+02, 8.900e+01,\n",
       "        2.157e+03, 5.700e+01, 7.100e+01, 2.205e+03, 7.700e+01, 6.900e+01,\n",
       "        1.925e+03, 1.900e+01, 6.000e+00, 3.000e+01, 1.210e+03, 1.500e+01,\n",
       "        1.500e+01, 2.200e+01, 2.000e+00, 7.070e+02, 3.000e+00, 0.000e+00,\n",
       "        4.000e+00, 2.000e+00, 4.370e+02, 0.000e+00, 0.000e+00, 3.000e+00,\n",
       "        0.000e+00, 0.000e+00, 0.000e+00, 1.270e+02, 0.000e+00, 0.000e+00,\n",
       "        0.000e+00, 0.000e+00, 0.000e+00, 0.000e+00, 0.000e+00, 3.600e+01,\n",
       "        0.000e+00, 0.000e+00, 0.000e+00, 0.000e+00, 0.000e+00, 0.000e+00,\n",
       "        0.000e+00, 0.000e+00, 0.000e+00, 2.100e+01, 0.000e+00, 0.000e+00,\n",
       "        0.000e+00, 0.000e+00, 0.000e+00, 0.000e+00, 0.000e+00, 0.000e+00,\n",
       "        0.000e+00, 0.000e+00, 0.000e+00, 5.000e+00]),\n",
       " array([  37.        ,   49.32571429,   61.65142857,   73.97714286,\n",
       "          86.30285714,   98.62857143,  110.95428571,  123.28      ,\n",
       "         135.60571429,  147.93142857,  160.25714286,  172.58285714,\n",
       "         184.90857143,  197.23428571,  209.56      ,  221.88571429,\n",
       "         234.21142857,  246.53714286,  258.86285714,  271.18857143,\n",
       "         283.51428571,  295.84      ,  308.16571429,  320.49142857,\n",
       "         332.81714286,  345.14285714,  357.46857143,  369.79428571,\n",
       "         382.12      ,  394.44571429,  406.77142857,  419.09714286,\n",
       "         431.42285714,  443.74857143,  456.07428571,  468.4       ,\n",
       "         480.72571429,  493.05142857,  505.37714286,  517.70285714,\n",
       "         530.02857143,  542.35428571,  554.68      ,  567.00571429,\n",
       "         579.33142857,  591.65714286,  603.98285714,  616.30857143,\n",
       "         628.63428571,  640.96      ,  653.28571429,  665.61142857,\n",
       "         677.93714286,  690.26285714,  702.58857143,  714.91428571,\n",
       "         727.24      ,  739.56571429,  751.89142857,  764.21714286,\n",
       "         776.54285714,  788.86857143,  801.19428571,  813.52      ,\n",
       "         825.84571429,  838.17142857,  850.49714286,  862.82285714,\n",
       "         875.14857143,  887.47428571,  899.8       ,  912.12571429,\n",
       "         924.45142857,  936.77714286,  949.10285714,  961.42857143,\n",
       "         973.75428571,  986.08      ,  998.40571429, 1010.73142857,\n",
       "        1023.05714286, 1035.38285714, 1047.70857143, 1060.03428571,\n",
       "        1072.36      , 1084.68571429, 1097.01142857, 1109.33714286,\n",
       "        1121.66285714, 1133.98857143, 1146.31428571, 1158.64      ,\n",
       "        1170.96571429, 1183.29142857, 1195.61714286, 1207.94285714,\n",
       "        1220.26857143, 1232.59428571, 1244.92      , 1257.24571429,\n",
       "        1269.57142857]),\n",
       " <a list of 100 Patch objects>)"
      ]
     },
     "execution_count": 8,
     "metadata": {},
     "output_type": "execute_result"
    },
    {
     "data": {
      "image/png": "[encoded data removed]",
      "text/plain": [
       "<Figure size 432x288 with 1 Axes>"
      ]
     },
     "metadata": {
      "needs_background": "light"
     },
     "output_type": "display_data"
    }
   ],
   "source": [
    "# your code here\n",
    "plt.hist(vehicles['CO2 Emission Grams/Mile'], bins=100)"
   ]
  },
  {
   "cell_type": "markdown",
   "metadata": {},
   "source": [
    "3. Combined MPG"
   ]
  },
  {
   "cell_type": "code",
   "execution_count": 9,
   "metadata": {},
   "outputs": [
    {
     "data": {
      "text/plain": [
       "(array([5.000e+00, 0.000e+00, 2.100e+01, 0.000e+00, 4.000e+01, 0.000e+00,\n",
       "        1.310e+02, 0.000e+00, 4.410e+02, 0.000e+00, 7.410e+02, 0.000e+00,\n",
       "        1.255e+03, 0.000e+00, 1.947e+03, 0.000e+00, 2.241e+03, 0.000e+00,\n",
       "        2.315e+03, 0.000e+00, 2.420e+03, 0.000e+00, 3.559e+03, 0.000e+00,\n",
       "        3.282e+03, 0.000e+00, 3.093e+03, 0.000e+00, 3.158e+03, 0.000e+00,\n",
       "        2.247e+03, 0.000e+00, 1.794e+03, 0.000e+00, 1.546e+03, 0.000e+00,\n",
       "        1.278e+03, 0.000e+00, 1.067e+03, 0.000e+00, 6.920e+02, 0.000e+00,\n",
       "        6.390e+02, 0.000e+00, 4.530e+02, 0.000e+00, 3.710e+02, 0.000e+00,\n",
       "        2.610e+02, 0.000e+00, 0.000e+00, 1.690e+02, 0.000e+00, 1.760e+02,\n",
       "        0.000e+00, 1.620e+02, 0.000e+00, 7.100e+01, 0.000e+00, 5.800e+01,\n",
       "        0.000e+00, 4.100e+01, 0.000e+00, 4.300e+01, 0.000e+00, 2.300e+01,\n",
       "        0.000e+00, 6.500e+01, 0.000e+00, 3.800e+01, 0.000e+00, 3.700e+01,\n",
       "        0.000e+00, 7.000e+00, 0.000e+00, 5.000e+00, 0.000e+00, 5.000e+00,\n",
       "        0.000e+00, 1.100e+01, 0.000e+00, 1.600e+01, 0.000e+00, 2.000e+00,\n",
       "        0.000e+00, 0.000e+00, 0.000e+00, 1.500e+01, 0.000e+00, 0.000e+00,\n",
       "        0.000e+00, 5.000e+00, 0.000e+00, 4.000e+00, 0.000e+00, 0.000e+00,\n",
       "        0.000e+00, 0.000e+00, 0.000e+00, 2.000e+00]),\n",
       " array([ 7.  ,  7.49,  7.98,  8.47,  8.96,  9.45,  9.94, 10.43, 10.92,\n",
       "        11.41, 11.9 , 12.39, 12.88, 13.37, 13.86, 14.35, 14.84, 15.33,\n",
       "        15.82, 16.31, 16.8 , 17.29, 17.78, 18.27, 18.76, 19.25, 19.74,\n",
       "        20.23, 20.72, 21.21, 21.7 , 22.19, 22.68, 23.17, 23.66, 24.15,\n",
       "        24.64, 25.13, 25.62, 26.11, 26.6 , 27.09, 27.58, 28.07, 28.56,\n",
       "        29.05, 29.54, 30.03, 30.52, 31.01, 31.5 , 31.99, 32.48, 32.97,\n",
       "        33.46, 33.95, 34.44, 34.93, 35.42, 35.91, 36.4 , 36.89, 37.38,\n",
       "        37.87, 38.36, 38.85, 39.34, 39.83, 40.32, 40.81, 41.3 , 41.79,\n",
       "        42.28, 42.77, 43.26, 43.75, 44.24, 44.73, 45.22, 45.71, 46.2 ,\n",
       "        46.69, 47.18, 47.67, 48.16, 48.65, 49.14, 49.63, 50.12, 50.61,\n",
       "        51.1 , 51.59, 52.08, 52.57, 53.06, 53.55, 54.04, 54.53, 55.02,\n",
       "        55.51, 56.  ]),\n",
       " <a list of 100 Patch objects>)"
      ]
     },
     "execution_count": 9,
     "metadata": {},
     "output_type": "execute_result"
    },
    {
     "data": {
      "image/png": "[encoded data removed]",
      "text/plain": [
       "<Figure size 432x288 with 1 Axes>"
      ]
     },
     "metadata": {
      "needs_background": "light"
     },
     "output_type": "display_data"
    }
   ],
   "source": [
    "# your code here\n",
    "plt.hist(vehicles['Combined MPG'],bins=100)"
   ]
  },
  {
   "cell_type": "markdown",
   "metadata": {},
   "source": [
    "Which one(s) of the variables are nearly normally distributed? How do you know?"
   ]
  },
  {
   "cell_type": "code",
   "execution_count": 10,
   "metadata": {},
   "outputs": [
    {
     "name": "stdout",
     "output_type": "stream",
     "text": [
      "mean=475.316 stdv=119.059\n",
      "mean=19.929 stdv=5.112\n"
     ]
    }
   ],
   "source": [
    "# you answer here:\n",
    "print('mean=%.3f stdv=%.3f' % (np.mean(vehicles['CO2 Emission Grams/Mile']), np.std(vehicles['CO2 Emission Grams/Mile'])))\n",
    "print('mean=%.3f stdv=%.3f' % (np.mean(vehicles['Combined MPG']), np.std(vehicles['Combined MPG'])))"
   ]
  },
  {
   "cell_type": "markdown",
   "metadata": {},
   "source": [
    "## Exponential Distribution"
   ]
  },
  {
   "cell_type": "markdown",
   "metadata": {},
   "source": [
    "1. Using `numpy.random.exponential`, create a function that returns a list of numbers exponentially distributed with the mean of 10. \n",
    "\n",
    "1. Use the function to generate two number sequences with a mean of 1 and 100 and a size of 1000.\n",
    "\n",
    "1. Plot the distributions as histograms with the number of bins as 100.\n",
    "\n",
    "Your output should look like below:\n",
    "\n",
    "![exponential distribution](ed.png)"
   ]
  },
  {
   "cell_type": "code",
   "execution_count": 11,
   "metadata": {},
   "outputs": [
    {
     "data": {
      "text/plain": [
       "(array([81., 79., 66., 59., 50., 48., 52., 39., 46., 34., 44., 33., 33.,\n",
       "        28., 27., 21., 23., 15., 15., 20., 18., 11.,  8., 14., 12.,  6.,\n",
       "         9.,  5.,  4., 11.,  9.,  5., 13.,  2.,  5.,  8.,  3.,  3.,  3.,\n",
       "         1.,  2.,  4.,  3.,  4.,  3.,  6.,  1.,  1.,  1.,  0.,  1.,  0.,\n",
       "         0.,  0.,  1.,  0.,  2.,  0.,  0.,  0.,  3.,  0.,  0.,  0.,  0.,\n",
       "         0.,  0.,  0.,  0.,  0.,  0.,  0.,  0.,  1.,  2.,  1.,  0.,  0.,\n",
       "         0.,  0.,  0.,  0.,  0.,  0.,  0.,  0.,  0.,  0.,  0.,  0.,  0.,\n",
       "         0.,  0.,  0.,  0.,  0.,  0.,  0.,  0.,  1.]),\n",
       " array([5.96678370e-02, 8.30772839e+00, 1.65557890e+01, 2.48038495e+01,\n",
       "        3.30519101e+01, 4.12999706e+01, 4.95480312e+01, 5.77960917e+01,\n",
       "        6.60441523e+01, 7.42922129e+01, 8.25402734e+01, 9.07883340e+01,\n",
       "        9.90363945e+01, 1.07284455e+02, 1.15532516e+02, 1.23780576e+02,\n",
       "        1.32028637e+02, 1.40276697e+02, 1.48524758e+02, 1.56772818e+02,\n",
       "        1.65020879e+02, 1.73268940e+02, 1.81517000e+02, 1.89765061e+02,\n",
       "        1.98013121e+02, 2.06261182e+02, 2.14509242e+02, 2.22757303e+02,\n",
       "        2.31005363e+02, 2.39253424e+02, 2.47501485e+02, 2.55749545e+02,\n",
       "        2.63997606e+02, 2.72245666e+02, 2.80493727e+02, 2.88741787e+02,\n",
       "        2.96989848e+02, 3.05237908e+02, 3.13485969e+02, 3.21734030e+02,\n",
       "        3.29982090e+02, 3.38230151e+02, 3.46478211e+02, 3.54726272e+02,\n",
       "        3.62974332e+02, 3.71222393e+02, 3.79470453e+02, 3.87718514e+02,\n",
       "        3.95966575e+02, 4.04214635e+02, 4.12462696e+02, 4.20710756e+02,\n",
       "        4.28958817e+02, 4.37206877e+02, 4.45454938e+02, 4.53702998e+02,\n",
       "        4.61951059e+02, 4.70199120e+02, 4.78447180e+02, 4.86695241e+02,\n",
       "        4.94943301e+02, 5.03191362e+02, 5.11439422e+02, 5.19687483e+02,\n",
       "        5.27935544e+02, 5.36183604e+02, 5.44431665e+02, 5.52679725e+02,\n",
       "        5.60927786e+02, 5.69175846e+02, 5.77423907e+02, 5.85671967e+02,\n",
       "        5.93920028e+02, 6.02168089e+02, 6.10416149e+02, 6.18664210e+02,\n",
       "        6.26912270e+02, 6.35160331e+02, 6.43408391e+02, 6.51656452e+02,\n",
       "        6.59904512e+02, 6.68152573e+02, 6.76400634e+02, 6.84648694e+02,\n",
       "        6.92896755e+02, 7.01144815e+02, 7.09392876e+02, 7.17640936e+02,\n",
       "        7.25888997e+02, 7.34137057e+02, 7.42385118e+02, 7.50633179e+02,\n",
       "        7.58881239e+02, 7.67129300e+02, 7.75377360e+02, 7.83625421e+02,\n",
       "        7.91873481e+02, 8.00121542e+02, 8.08369602e+02, 8.16617663e+02,\n",
       "        8.24865724e+02]),\n",
       " <a list of 100 Patch objects>)"
      ]
     },
     "execution_count": 11,
     "metadata": {},
     "output_type": "execute_result"
    },
    {
     "data": {
      "image/png": "[encoded data removed]",
      "text/plain": [
       "<Figure size 1440x720 with 2 Axes>"
      ]
     },
     "metadata": {
      "needs_background": "light"
     },
     "output_type": "display_data"
    }
   ],
   "source": [
    "# your code here\n",
    "exp1=np.random.exponential(1,100)\n",
    "exp2=np.random.exponential(100,1000)\n",
    "fig, axs = plt.subplots(1, 2, figsize=(20, 10))\n",
    "axs[0].hist(exp1,bins=100)\n",
    "axs[1].hist(exp2,bins=100)\n"
   ]
  },
  {
   "cell_type": "markdown",
   "metadata": {},
   "source": [
    "How are the two distributions different?"
   ]
  },
  {
   "cell_type": "code",
   "execution_count": 12,
   "metadata": {},
   "outputs": [],
   "source": [
    "# your answer here:\n"
   ]
  },
  {
   "cell_type": "markdown",
   "metadata": {},
   "source": [
    "## Exponential Distribution of Real Data\n",
    "\n",
    "Suppose that the amount of time one spends in a bank is exponentially distributed with mean as 10 minutes (i.e. λ = 1/10). What is the probability that a customer will spend less than fifteen minutes in the bank? \n",
    "\n",
    "Write a code in python to solve this problem"
   ]
  },
  {
   "cell_type": "code",
   "execution_count": 27,
   "metadata": {},
   "outputs": [
    {
     "data": {
      "text/plain": [
       "0.778"
      ]
     },
     "execution_count": 27,
     "metadata": {},
     "output_type": "execute_result"
    }
   ],
   "source": [
    "# your answer here\n",
    "# Hint: This is same as saying P(x<15)\n",
    "bank = list(np.random.exponential(10,1000))\n",
    "def less(lista,num):    \n",
    "    c=0\n",
    "    for i in range(len(lista)):\n",
    "        if bank[i]< num:\n",
    "            c+=1\n",
    "    prob=c/len(lista)\n",
    "    return prob\n",
    "less(bank,15)\n",
    "    "
   ]
  },
  {
   "cell_type": "markdown",
   "metadata": {},
   "source": [
    "What is the probability that the customer will spend more than 15 minutes"
   ]
  },
  {
   "cell_type": "code",
   "execution_count": 28,
   "metadata": {},
   "outputs": [
    {
     "data": {
      "text/plain": [
       "0.22199999999999998"
      ]
     },
     "execution_count": 28,
     "metadata": {},
     "output_type": "execute_result"
    }
   ],
   "source": [
    "# your answer here\n",
    "1-less(bank,15)"
   ]
  },
  {
   "cell_type": "code",
   "execution_count": null,
   "metadata": {},
   "outputs": [],
   "source": []
  }
 ],
 "metadata": {
  "kernelspec": {
   "display_name": "Python 3",
   "language": "python",
   "name": "python3"
  },
  "language_info": {
   "codemirror_mode": {
    "name": "ipython",
    "version": 3
   },
   "file_extension": ".py",
   "mimetype": "text/x-python",
   "name": "python",
   "nbconvert_exporter": "python",
   "pygments_lexer": "ipython3",
   "version": "3.7.4"
  }
 },
 "nbformat": 4,
 "nbformat_minor": 2
}
